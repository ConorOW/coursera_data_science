{
 "cells": [
  {
   "cell_type": "markdown",
   "metadata": {},
   "source": [
    "# Capstone Project\n",
    "\n",
    "## Week 1\n",
    "\n",
    "### Business Problem\n",
    "36,560 people died in motor vehicle crashes in the United States in 2018. Understanding whether someone who has been in a car accident is likely to be gravely injured, may enable our medical and emergency services teams to better prepare when there is an accident. For this project, we have built a number supervised machine learning models to predict the severity of road accidents based on historical car collision data. These models will enable us to predict, based on information from the crash scene, whether the people involved are likely to be severely injured, and thus in need of more immediate and thorough care. Information like this will enable hospitals and emergency officials to better allocate resources when there are car collisions, with the hope that such a move can reduce the chances that people involved in those car collisions will die from their injuries.\n",
    "\n",
    "\n",
    "### Data\n",
    "Based on our business problem, we will use the 'Seattle Accident Collisions' dataset, bringing together data from 2004-2015. The data that we will use relates to certain physical characteristics of the accident scene and the environment, factors that could all be discerned by first responders. This includes data on:\n",
    "1. The type of collison that took place\n",
    "2. Where the collison took place\n",
    "3. What the lighting was like around the collison scene\n",
    "4. What the weather was like at the time of the collison\n",
    "5. Whether a driver was speeding\n",
    "\n",
    "Taken together, our models will predict the severity of the road collisions based on those factors. We will also compare a number of predictive models and show which is the best at doing so."
   ]
  },
  {
   "cell_type": "code",
   "execution_count": null,
   "metadata": {},
   "outputs": [],
   "source": []
  }
 ],
 "metadata": {
  "kernelspec": {
   "display_name": "Python 3",
   "language": "python",
   "name": "python3"
  },
  "language_info": {
   "codemirror_mode": {
    "name": "ipython",
    "version": 3
   },
   "file_extension": ".py",
   "mimetype": "text/x-python",
   "name": "python",
   "nbconvert_exporter": "python",
   "pygments_lexer": "ipython3",
   "version": "3.7.6"
  }
 },
 "nbformat": 4,
 "nbformat_minor": 4
}
