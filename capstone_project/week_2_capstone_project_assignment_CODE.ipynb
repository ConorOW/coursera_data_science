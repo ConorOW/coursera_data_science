{
 "cells": [
  {
   "cell_type": "markdown",
   "metadata": {},
   "source": [
    "# Capstone Project\n",
    "\n",
    "### Business Problem\n",
    "36,560 people died in motor vehicle crashes in the United States in 2018. Understanding whether someone who has been in a car accident is likely to be gravely injured, may enable our medical and emergency services teams to better prepare when there is an accident. For this project, we have built a number supervised machine learning models to predict the severity of road accidents based on historical car collision data. These models will enable us to predict, based on information from the crash scene, whether the people involved are likely to be severely injured, and thus in need of more immediate and thorough care. Information like this will enable hospitals and emergency officials to better allocate resources when there are car collisions, with the hope that such a move can reduce the chances that people involved in those car collisions will die from their injuries.\n",
    "\n",
    "\n",
    "### Data\n",
    "Based on our business problem, we will use the 'Seattle Accident Collisions' dataset, bringing together data from 2004-2015. The data that we will use relates to certain physical characteristics of the accident scene and the environment, factors that could all be discerned by first responders. This includes data on:\n",
    "1. The type of collison that took place\n",
    "2. Where the collison took place\n",
    "3. What the lighting was like around the collison scene\n",
    "4. What the weather was like at the time of the collison\n",
    "5. Whether a driver was speeding\n",
    "\n",
    "Taken together, our models will predict the severity of the road collisions based on those factors. We will also compare a number of predictive models and show which is the best at doing so."
   ]
  },
  {
   "cell_type": "markdown",
   "metadata": {},
   "source": [
    "### Data preparation\n",
    "The data preparation includes all the required activities to construct the final dataset and it includes balancing the labeled data, transformation, filling missing data, and cleaning the dataset."
   ]
  },
  {
   "cell_type": "code",
   "execution_count": 1,
   "metadata": {},
   "outputs": [],
   "source": [
    "import itertools\n",
    "import numpy as np\n",
    "import matplotlib.pyplot as plt\n",
    "from matplotlib.ticker import NullFormatter\n",
    "import pandas as pd\n",
    "import numpy as np\n",
    "import matplotlib.ticker as ticker\n",
    "from sklearn import preprocessing\n",
    "%matplotlib inline\n",
    "df = pd.read_csv('collisions.csv', header=0)"
   ]
  },
  {
   "cell_type": "markdown",
   "metadata": {},
   "source": [
    "This dataset describes the conditions surrounding car collisions that took place between 2004 and present and is provided by the Seattle Department of Transportation."
   ]
  },
  {
   "cell_type": "markdown",
   "metadata": {},
   "source": [
    "We want to focus on a few key variables, including the type of collision, the junction where the collision happened, the weather at the time of the collision, the condition of the roads and also the lighting. Because of this, we can remove columns with daat that we are not interested in."
   ]
  },
  {
   "cell_type": "code",
   "execution_count": 2,
   "metadata": {},
   "outputs": [],
   "source": [
    "cols_to_drop = [\n",
    "    'X','Y','OBJECTID','INCKEY','COLDETKEY','REPORTNO','STATUS','ADDRTYPE','INTKEY','EXCEPTRSNCODE','EXCEPTRSNDESC','EXCEPTRSNDESC','PERSONCOUNT','PEDCOUNT','PEDCYLCOUNT','VEHCOUNT', 'INJURIES',\n",
    "    'FATALITIES','INCDATE','SDOT_COLCODE','SDOT_COLDESC','PEDROWNOTGRNT','SDOTCOLNUM','ST_COLCODE','ST_COLDESC','SEGLANEKEY','CROSSWALKKEY', 'HITPARKEDCAR','LOCATION','SEVERITYDESC','SERIOUSINJURIES',\n",
    "    'INCDTTM','SPEEDING','INATTENTIONIND','UNDERINFL','JUNCTIONTYPE'\n",
    "]\n",
    "dataframe = df.drop(cols_to_drop, axis=1)"
   ]
  },
  {
   "cell_type": "code",
   "execution_count": 3,
   "metadata": {},
   "outputs": [
    {
     "data": {
      "text/html": [
       "<div>\n",
       "<style scoped>\n",
       "    .dataframe tbody tr th:only-of-type {\n",
       "        vertical-align: middle;\n",
       "    }\n",
       "\n",
       "    .dataframe tbody tr th {\n",
       "        vertical-align: top;\n",
       "    }\n",
       "\n",
       "    .dataframe thead th {\n",
       "        text-align: right;\n",
       "    }\n",
       "</style>\n",
       "<table border=\"1\" class=\"dataframe\">\n",
       "  <thead>\n",
       "    <tr style=\"text-align: right;\">\n",
       "      <th></th>\n",
       "      <th>SEVERITYCODE</th>\n",
       "      <th>COLLISIONTYPE</th>\n",
       "      <th>WEATHER</th>\n",
       "      <th>ROADCOND</th>\n",
       "      <th>LIGHTCOND</th>\n",
       "    </tr>\n",
       "  </thead>\n",
       "  <tbody>\n",
       "    <tr>\n",
       "      <th>0</th>\n",
       "      <td>0</td>\n",
       "      <td>NaN</td>\n",
       "      <td>NaN</td>\n",
       "      <td>NaN</td>\n",
       "      <td>NaN</td>\n",
       "    </tr>\n",
       "    <tr>\n",
       "      <th>1</th>\n",
       "      <td>0</td>\n",
       "      <td>NaN</td>\n",
       "      <td>NaN</td>\n",
       "      <td>NaN</td>\n",
       "      <td>NaN</td>\n",
       "    </tr>\n",
       "    <tr>\n",
       "      <th>2</th>\n",
       "      <td>1</td>\n",
       "      <td>Left Turn</td>\n",
       "      <td>Overcast</td>\n",
       "      <td>Dry</td>\n",
       "      <td>Daylight</td>\n",
       "    </tr>\n",
       "    <tr>\n",
       "      <th>3</th>\n",
       "      <td>1</td>\n",
       "      <td>Parked Car</td>\n",
       "      <td>Clear</td>\n",
       "      <td>Dry</td>\n",
       "      <td>Other</td>\n",
       "    </tr>\n",
       "    <tr>\n",
       "      <th>4</th>\n",
       "      <td>1</td>\n",
       "      <td>Rear Ended</td>\n",
       "      <td>Clear</td>\n",
       "      <td>Dry</td>\n",
       "      <td>Daylight</td>\n",
       "    </tr>\n",
       "  </tbody>\n",
       "</table>\n",
       "</div>"
      ],
      "text/plain": [
       "  SEVERITYCODE COLLISIONTYPE   WEATHER ROADCOND LIGHTCOND\n",
       "0            0           NaN       NaN      NaN       NaN\n",
       "1            0           NaN       NaN      NaN       NaN\n",
       "2            1     Left Turn  Overcast      Dry  Daylight\n",
       "3            1    Parked Car     Clear      Dry     Other\n",
       "4            1    Rear Ended     Clear      Dry  Daylight"
      ]
     },
     "execution_count": 3,
     "metadata": {},
     "output_type": "execute_result"
    }
   ],
   "source": [
    "dataframe.head()"
   ]
  },
  {
   "cell_type": "markdown",
   "metadata": {},
   "source": [
    "### Feature engineering"
   ]
  },
  {
   "cell_type": "markdown",
   "metadata": {},
   "source": [
    "We can also move our columns around so that we can have our variable of interest, 'SEVERITYCODE' at the end of the dataset."
   ]
  },
  {
   "cell_type": "code",
   "execution_count": 4,
   "metadata": {},
   "outputs": [],
   "source": [
    "dataframe = dataframe[['COLLISIONTYPE', 'WEATHER', 'ROADCOND', 'LIGHTCOND', 'SEVERITYCODE']]"
   ]
  },
  {
   "cell_type": "markdown",
   "metadata": {},
   "source": [
    "Now we are going to remove rows where there are missing values. "
   ]
  },
  {
   "cell_type": "code",
   "execution_count": 5,
   "metadata": {},
   "outputs": [],
   "source": [
    "dataframe = dataframe.dropna(subset=['COLLISIONTYPE', 'ROADCOND', 'LIGHTCOND', 'WEATHER'])"
   ]
  },
  {
   "cell_type": "markdown",
   "metadata": {},
   "source": [
    "We can now see that our data is looking a lot cleaner"
   ]
  },
  {
   "cell_type": "code",
   "execution_count": 6,
   "metadata": {},
   "outputs": [
    {
     "data": {
      "text/html": [
       "<div>\n",
       "<style scoped>\n",
       "    .dataframe tbody tr th:only-of-type {\n",
       "        vertical-align: middle;\n",
       "    }\n",
       "\n",
       "    .dataframe tbody tr th {\n",
       "        vertical-align: top;\n",
       "    }\n",
       "\n",
       "    .dataframe thead th {\n",
       "        text-align: right;\n",
       "    }\n",
       "</style>\n",
       "<table border=\"1\" class=\"dataframe\">\n",
       "  <thead>\n",
       "    <tr style=\"text-align: right;\">\n",
       "      <th></th>\n",
       "      <th>COLLISIONTYPE</th>\n",
       "      <th>WEATHER</th>\n",
       "      <th>ROADCOND</th>\n",
       "      <th>LIGHTCOND</th>\n",
       "      <th>SEVERITYCODE</th>\n",
       "    </tr>\n",
       "  </thead>\n",
       "  <tbody>\n",
       "    <tr>\n",
       "      <th>2</th>\n",
       "      <td>Left Turn</td>\n",
       "      <td>Overcast</td>\n",
       "      <td>Dry</td>\n",
       "      <td>Daylight</td>\n",
       "      <td>1</td>\n",
       "    </tr>\n",
       "    <tr>\n",
       "      <th>3</th>\n",
       "      <td>Parked Car</td>\n",
       "      <td>Clear</td>\n",
       "      <td>Dry</td>\n",
       "      <td>Other</td>\n",
       "      <td>1</td>\n",
       "    </tr>\n",
       "    <tr>\n",
       "      <th>4</th>\n",
       "      <td>Rear Ended</td>\n",
       "      <td>Clear</td>\n",
       "      <td>Dry</td>\n",
       "      <td>Daylight</td>\n",
       "      <td>1</td>\n",
       "    </tr>\n",
       "    <tr>\n",
       "      <th>5</th>\n",
       "      <td>Angles</td>\n",
       "      <td>Clear</td>\n",
       "      <td>Dry</td>\n",
       "      <td>Daylight</td>\n",
       "      <td>2</td>\n",
       "    </tr>\n",
       "    <tr>\n",
       "      <th>6</th>\n",
       "      <td>Parked Car</td>\n",
       "      <td>Clear</td>\n",
       "      <td>Dry</td>\n",
       "      <td>Dark - Street Lights On</td>\n",
       "      <td>1</td>\n",
       "    </tr>\n",
       "  </tbody>\n",
       "</table>\n",
       "</div>"
      ],
      "text/plain": [
       "  COLLISIONTYPE   WEATHER ROADCOND                LIGHTCOND SEVERITYCODE\n",
       "2     Left Turn  Overcast      Dry                 Daylight            1\n",
       "3    Parked Car     Clear      Dry                    Other            1\n",
       "4    Rear Ended     Clear      Dry                 Daylight            1\n",
       "5        Angles     Clear      Dry                 Daylight            2\n",
       "6    Parked Car     Clear      Dry  Dark - Street Lights On            1"
      ]
     },
     "execution_count": 6,
     "metadata": {},
     "output_type": "execute_result"
    }
   ],
   "source": [
    "dataframe.head()"
   ]
  },
  {
   "cell_type": "code",
   "execution_count": 7,
   "metadata": {},
   "outputs": [
    {
     "name": "stdout",
     "output_type": "stream",
     "text": [
      "<class 'pandas.core.frame.DataFrame'>\n",
      "Int64Index: 194262 entries, 2 to 221143\n",
      "Data columns (total 5 columns):\n",
      " #   Column         Non-Null Count   Dtype \n",
      "---  ------         --------------   ----- \n",
      " 0   COLLISIONTYPE  194262 non-null  object\n",
      " 1   WEATHER        194262 non-null  object\n",
      " 2   ROADCOND       194262 non-null  object\n",
      " 3   LIGHTCOND      194262 non-null  object\n",
      " 4   SEVERITYCODE   194262 non-null  object\n",
      "dtypes: object(5)\n",
      "memory usage: 8.9+ MB\n"
     ]
    }
   ],
   "source": [
    "dataframe.info()"
   ]
  },
  {
   "cell_type": "markdown",
   "metadata": {},
   "source": [
    "We can see from the above that our data is an 'object' type. As it came from a CSV file, we can assume that this means they are all text data and thus categorical variables. Because of this we will need to do some data processing to convert it all to numerical variables, and also balance the categories so that our models are not biased."
   ]
  },
  {
   "cell_type": "markdown",
   "metadata": {},
   "source": [
    "First, as we want out models to predict if an accident causes severe injuries, or just mild ones, we can remove rows with a '0' value (unknown) or 1 (property damage)."
   ]
  },
  {
   "cell_type": "code",
   "execution_count": 8,
   "metadata": {},
   "outputs": [],
   "source": [
    "# Remove categories of no interest\n",
    "dataframe = dataframe[dataframe.SEVERITYCODE != '1']\n",
    "dataframe = dataframe[dataframe.SEVERITYCODE != '0']"
   ]
  },
  {
   "cell_type": "code",
   "execution_count": 9,
   "metadata": {},
   "outputs": [
    {
     "name": "stdout",
     "output_type": "stream",
     "text": [
      "<class 'pandas.core.frame.DataFrame'>\n",
      "Int64Index: 60951 entries, 5 to 221143\n",
      "Data columns (total 5 columns):\n",
      " #   Column         Non-Null Count  Dtype \n",
      "---  ------         --------------  ----- \n",
      " 0   COLLISIONTYPE  60951 non-null  object\n",
      " 1   WEATHER        60951 non-null  object\n",
      " 2   ROADCOND       60951 non-null  object\n",
      " 3   LIGHTCOND      60951 non-null  object\n",
      " 4   SEVERITYCODE   60951 non-null  object\n",
      "dtypes: object(5)\n",
      "memory usage: 2.8+ MB\n"
     ]
    }
   ],
   "source": [
    "dataframe.info()"
   ]
  },
  {
   "cell_type": "code",
   "execution_count": 10,
   "metadata": {},
   "outputs": [
    {
     "data": {
      "text/plain": [
       "2     57579\n",
       "2b     3034\n",
       "3       338\n",
       "Name: SEVERITYCODE, dtype: int64"
      ]
     },
     "execution_count": 10,
     "metadata": {},
     "output_type": "execute_result"
    }
   ],
   "source": [
    "dataframe[\"SEVERITYCODE\"].value_counts()"
   ]
  },
  {
   "cell_type": "markdown",
   "metadata": {},
   "source": [
    "We can see from the above code that our dependent variable of interest, 'SEVERITY CODE' is heavily weighted towards the minor injury category."
   ]
  },
  {
   "cell_type": "markdown",
   "metadata": {},
   "source": [
    "First we can combine our 2b and 3 data which are the 'severe' categories of interst."
   ]
  },
  {
   "cell_type": "code",
   "execution_count": 11,
   "metadata": {},
   "outputs": [],
   "source": [
    "dataframe = dataframe.replace({\"2b\":\"3\"})\n",
    "dataframe = dataframe.replace({\"2\":\"Mild\"})\n",
    "dataframe = dataframe.replace({\"3\":\"Severe\"})"
   ]
  },
  {
   "cell_type": "code",
   "execution_count": 12,
   "metadata": {},
   "outputs": [
    {
     "data": {
      "text/plain": [
       "Mild      57579\n",
       "Severe     3372\n",
       "Name: SEVERITYCODE, dtype: int64"
      ]
     },
     "execution_count": 12,
     "metadata": {},
     "output_type": "execute_result"
    }
   ],
   "source": [
    "dataframe[\"SEVERITYCODE\"].value_counts()"
   ]
  },
  {
   "cell_type": "markdown",
   "metadata": {},
   "source": [
    "Next we should combine some of our data to make it less finegrained."
   ]
  },
  {
   "cell_type": "code",
   "execution_count": 13,
   "metadata": {},
   "outputs": [
    {
     "data": {
      "text/plain": [
       "Rear Ended    15010\n",
       "Angles        14205\n",
       "Pedestrian     6959\n",
       "Other          6744\n",
       "Left Turn      5727\n",
       "Cycles         5221\n",
       "Parked Car     2834\n",
       "Sideswipe      2606\n",
       "Head On        1008\n",
       "Right Turn      637\n",
       "Name: COLLISIONTYPE, dtype: int64"
      ]
     },
     "execution_count": 13,
     "metadata": {},
     "output_type": "execute_result"
    }
   ],
   "source": [
    "dataframe[\"COLLISIONTYPE\"].value_counts()"
   ]
  },
  {
   "cell_type": "code",
   "execution_count": 14,
   "metadata": {},
   "outputs": [],
   "source": [
    "# Get indexes where name column has value 'Other' \n",
    "IndexNames = dataframe[dataframe['COLLISIONTYPE'] == 'Other'].index\n",
    "# Delete these row indexes from dataFrame\n",
    "dataframe.drop(IndexNames, inplace=True)"
   ]
  },
  {
   "cell_type": "code",
   "execution_count": 15,
   "metadata": {},
   "outputs": [
    {
     "data": {
      "text/plain": [
       "Clear                       34414\n",
       "Raining                     10340\n",
       "Overcast                     8242\n",
       "Unknown                       773\n",
       "Fog/Smog/Smoke                147\n",
       "Snowing                       133\n",
       "Other                         112\n",
       "Sleet/Hail/Freezing Rain       25\n",
       "Blowing Sand/Dirt              14\n",
       "Partly Cloudy                   4\n",
       "Severe Crosswind                3\n",
       "Name: WEATHER, dtype: int64"
      ]
     },
     "execution_count": 15,
     "metadata": {},
     "output_type": "execute_result"
    }
   ],
   "source": [
    "dataframe['WEATHER'].value_counts()"
   ]
  },
  {
   "cell_type": "code",
   "execution_count": 16,
   "metadata": {},
   "outputs": [],
   "source": [
    "# Get indexes where name column has value 'Other' \n",
    "IndexNames1 = dataframe[dataframe['WEATHER'] == 'Other'].index\n",
    "# Delete these row indexes from dataFrame\n",
    "dataframe.drop(IndexNames1, inplace=True)\n",
    "\n",
    "# Get indexes where name column has value 'Unknown' \n",
    "IndexNames2 = dataframe[dataframe['WEATHER'] == 'Unknown'].index\n",
    "# Delete these row indexes from dataFrame\n",
    "dataframe.drop(IndexNames2, inplace=True)\n",
    "\n",
    "# Get indexes where name column has value 'Severe Crosswind' \n",
    "IndexNames3 = dataframe[dataframe['WEATHER'] == 'Severe Crosswind'].index\n",
    "# Delete these row indexes from dataFrame\n",
    "dataframe.drop(IndexNames3, inplace=True)\n",
    "\n",
    "# Get indexes where name column has value 'Partly Cloudy' \n",
    "IndexNames4 = dataframe[dataframe['WEATHER'] == 'Partly Cloudy'].index\n",
    "# Delete these row indexes from dataFrame\n",
    "dataframe.drop(IndexNames4, inplace=True)\n",
    "\n",
    "# Get indexes where name column has value 'Blowing Sand/Dirt' \n",
    "IndexNames5 = dataframe[dataframe['WEATHER'] == 'Blowing Sand/Dirt'].index\n",
    "# Delete these row indexes from dataFrame\n",
    "dataframe.drop(IndexNames5, inplace=True)\n",
    "\n",
    "# Get indexes where name column has value 'Sleet/Hail/Freezing Rain' \n",
    "IndexNames6 = dataframe[dataframe['WEATHER'] == 'Sleet/Hail/Freezing Rain'].index\n",
    "# Delete these row indexes from dataFrame\n",
    "dataframe.drop(IndexNames6, inplace=True)"
   ]
  },
  {
   "cell_type": "code",
   "execution_count": 17,
   "metadata": {},
   "outputs": [
    {
     "data": {
      "text/plain": [
       "Clear             34414\n",
       "Raining           10340\n",
       "Overcast           8242\n",
       "Fog/Smog/Smoke      147\n",
       "Snowing             133\n",
       "Name: WEATHER, dtype: int64"
      ]
     },
     "execution_count": 17,
     "metadata": {},
     "output_type": "execute_result"
    }
   ],
   "source": [
    "dataframe['WEATHER'].value_counts()"
   ]
  },
  {
   "cell_type": "code",
   "execution_count": 18,
   "metadata": {},
   "outputs": [
    {
     "data": {
      "text/plain": [
       "Dry               38337\n",
       "Wet               14459\n",
       "Ice                 180\n",
       "Snow/Slush          122\n",
       "Unknown             113\n",
       "Other                26\n",
       "Standing Water       17\n",
       "Sand/Mud/Dirt        12\n",
       "Oil                  10\n",
       "Name: ROADCOND, dtype: int64"
      ]
     },
     "execution_count": 18,
     "metadata": {},
     "output_type": "execute_result"
    }
   ],
   "source": [
    "dataframe['ROADCOND'].value_counts()"
   ]
  },
  {
   "cell_type": "code",
   "execution_count": 19,
   "metadata": {},
   "outputs": [],
   "source": [
    "# Get indexes where name column has value 'Other' \n",
    "IndexNames = dataframe[dataframe['ROADCOND'] == 'Other'].index\n",
    "# Delete these row indexes from dataFrame\n",
    "dataframe.drop(IndexNames, inplace=True)\n",
    "\n",
    "# Get indexes where name column has value 'Unknown' \n",
    "IndexNames2 = dataframe[dataframe['ROADCOND'] == 'Unknown'].index\n",
    "# Delete these row indexes from dataFrame\n",
    "dataframe.drop(IndexNames2, inplace=True)"
   ]
  },
  {
   "cell_type": "code",
   "execution_count": 20,
   "metadata": {},
   "outputs": [
    {
     "data": {
      "text/plain": [
       "Daylight                    36755\n",
       "Dark - Street Lights On     12987\n",
       "Dusk                         1821\n",
       "Dawn                          750\n",
       "Dark - Street Lights Off      284\n",
       "Dark - No Street Lights       273\n",
       "Unknown                       223\n",
       "Other                          38\n",
       "Dark - Unknown Lighting         6\n",
       "Name: LIGHTCOND, dtype: int64"
      ]
     },
     "execution_count": 20,
     "metadata": {},
     "output_type": "execute_result"
    }
   ],
   "source": [
    "dataframe['LIGHTCOND'].value_counts()"
   ]
  },
  {
   "cell_type": "code",
   "execution_count": 21,
   "metadata": {},
   "outputs": [],
   "source": [
    "# Get indexes where name column has value 'Other', 'Unknown' and 'Dark - unknown'\n",
    "IndexNames1 = dataframe[dataframe['LIGHTCOND'] == 'Other'].index\n",
    "IndexNames2 = dataframe[dataframe['LIGHTCOND'] == 'Unknown'].index\n",
    "IndexNames3 = dataframe[dataframe['LIGHTCOND'] == 'Dark - Unknown Lighting'].index\n",
    "# Delete these row indexes from dataFrame\n",
    "dataframe.drop(IndexNames1, inplace=True)\n",
    "dataframe.drop(IndexNames2, inplace=True)\n",
    "dataframe.drop(IndexNames3, inplace=True)"
   ]
  },
  {
   "cell_type": "code",
   "execution_count": 22,
   "metadata": {
    "scrolled": true
   },
   "outputs": [
    {
     "data": {
      "text/plain": [
       "Daylight                    36755\n",
       "Dark - Street Lights On     12987\n",
       "Dusk                         1821\n",
       "Dawn                          750\n",
       "Dark - Street Lights Off      284\n",
       "Dark - No Street Lights       273\n",
       "Name: LIGHTCOND, dtype: int64"
      ]
     },
     "execution_count": 22,
     "metadata": {},
     "output_type": "execute_result"
    }
   ],
   "source": [
    "dataframe['LIGHTCOND'].value_counts()"
   ]
  },
  {
   "cell_type": "code",
   "execution_count": 23,
   "metadata": {},
   "outputs": [],
   "source": [
    "dataframe = dataframe.replace({\"Dark - Street Lights Off\":\"Dark - No Street Lights\"})"
   ]
  },
  {
   "cell_type": "code",
   "execution_count": 24,
   "metadata": {},
   "outputs": [
    {
     "data": {
      "text/plain": [
       "Daylight                   36755\n",
       "Dark - Street Lights On    12987\n",
       "Dusk                        1821\n",
       "Dawn                         750\n",
       "Dark - No Street Lights      557\n",
       "Name: LIGHTCOND, dtype: int64"
      ]
     },
     "execution_count": 24,
     "metadata": {},
     "output_type": "execute_result"
    }
   ],
   "source": [
    "dataframe['LIGHTCOND'].value_counts()"
   ]
  },
  {
   "cell_type": "markdown",
   "metadata": {},
   "source": [
    "Now we have a dataframe, we will want to encode our categorical featuers with numeric values so our models can work properly. To do this we can use 'One-hot encoding' "
   ]
  },
  {
   "cell_type": "code",
   "execution_count": 25,
   "metadata": {},
   "outputs": [
    {
     "name": "stdout",
     "output_type": "stream",
     "text": [
      "<class 'pandas.core.frame.DataFrame'>\n",
      "Int64Index: 52870 entries, 5 to 221143\n",
      "Data columns (total 27 columns):\n",
      " #   Column                             Non-Null Count  Dtype \n",
      "---  ------                             --------------  ----- \n",
      " 0   SEVERITYCODE                       52870 non-null  object\n",
      " 1   COLLISIONTYPE_Angles               52870 non-null  uint8 \n",
      " 2   COLLISIONTYPE_Cycles               52870 non-null  uint8 \n",
      " 3   COLLISIONTYPE_Head On              52870 non-null  uint8 \n",
      " 4   COLLISIONTYPE_Left Turn            52870 non-null  uint8 \n",
      " 5   COLLISIONTYPE_Parked Car           52870 non-null  uint8 \n",
      " 6   COLLISIONTYPE_Pedestrian           52870 non-null  uint8 \n",
      " 7   COLLISIONTYPE_Rear Ended           52870 non-null  uint8 \n",
      " 8   COLLISIONTYPE_Right Turn           52870 non-null  uint8 \n",
      " 9   COLLISIONTYPE_Sideswipe            52870 non-null  uint8 \n",
      " 10  WEATHER_Clear                      52870 non-null  uint8 \n",
      " 11  WEATHER_Fog/Smog/Smoke             52870 non-null  uint8 \n",
      " 12  WEATHER_Overcast                   52870 non-null  uint8 \n",
      " 13  WEATHER_Raining                    52870 non-null  uint8 \n",
      " 14  WEATHER_Snowing                    52870 non-null  uint8 \n",
      " 15  ROADCOND_Dry                       52870 non-null  uint8 \n",
      " 16  ROADCOND_Ice                       52870 non-null  uint8 \n",
      " 17  ROADCOND_Oil                       52870 non-null  uint8 \n",
      " 18  ROADCOND_Sand/Mud/Dirt             52870 non-null  uint8 \n",
      " 19  ROADCOND_Snow/Slush                52870 non-null  uint8 \n",
      " 20  ROADCOND_Standing Water            52870 non-null  uint8 \n",
      " 21  ROADCOND_Wet                       52870 non-null  uint8 \n",
      " 22  LIGHTCOND_Dark - No Street Lights  52870 non-null  uint8 \n",
      " 23  LIGHTCOND_Dark - Street Lights On  52870 non-null  uint8 \n",
      " 24  LIGHTCOND_Dawn                     52870 non-null  uint8 \n",
      " 25  LIGHTCOND_Daylight                 52870 non-null  uint8 \n",
      " 26  LIGHTCOND_Dusk                     52870 non-null  uint8 \n",
      "dtypes: object(1), uint8(26)\n",
      "memory usage: 2.1+ MB\n"
     ]
    }
   ],
   "source": [
    "dataframe_final = pd.get_dummies(data=dataframe, columns=['COLLISIONTYPE', 'WEATHER', 'ROADCOND', 'LIGHTCOND'])\n",
    "dataframe_final.info()"
   ]
  },
  {
   "cell_type": "code",
   "execution_count": 26,
   "metadata": {},
   "outputs": [
    {
     "data": {
      "text/plain": [
       "(52870, 27)"
      ]
     },
     "execution_count": 26,
     "metadata": {},
     "output_type": "execute_result"
    }
   ],
   "source": [
    "dataframe_final.shape"
   ]
  },
  {
   "cell_type": "markdown",
   "metadata": {},
   "source": [
    "Next we want to move our outcome variable to the end of the dataset for cleanliness."
   ]
  },
  {
   "cell_type": "code",
   "execution_count": 27,
   "metadata": {},
   "outputs": [],
   "source": [
    "dataframe_final = dataframe_final[[col for col in dataframe_final.columns if col != 'SEVERITYCODE'] + ['SEVERITYCODE']]"
   ]
  },
  {
   "cell_type": "code",
   "execution_count": 28,
   "metadata": {},
   "outputs": [
    {
     "data": {
      "text/html": [
       "<div>\n",
       "<style scoped>\n",
       "    .dataframe tbody tr th:only-of-type {\n",
       "        vertical-align: middle;\n",
       "    }\n",
       "\n",
       "    .dataframe tbody tr th {\n",
       "        vertical-align: top;\n",
       "    }\n",
       "\n",
       "    .dataframe thead th {\n",
       "        text-align: right;\n",
       "    }\n",
       "</style>\n",
       "<table border=\"1\" class=\"dataframe\">\n",
       "  <thead>\n",
       "    <tr style=\"text-align: right;\">\n",
       "      <th></th>\n",
       "      <th>COLLISIONTYPE_Angles</th>\n",
       "      <th>COLLISIONTYPE_Cycles</th>\n",
       "      <th>COLLISIONTYPE_Head On</th>\n",
       "      <th>COLLISIONTYPE_Left Turn</th>\n",
       "      <th>COLLISIONTYPE_Parked Car</th>\n",
       "      <th>COLLISIONTYPE_Pedestrian</th>\n",
       "      <th>COLLISIONTYPE_Rear Ended</th>\n",
       "      <th>COLLISIONTYPE_Right Turn</th>\n",
       "      <th>COLLISIONTYPE_Sideswipe</th>\n",
       "      <th>WEATHER_Clear</th>\n",
       "      <th>...</th>\n",
       "      <th>ROADCOND_Sand/Mud/Dirt</th>\n",
       "      <th>ROADCOND_Snow/Slush</th>\n",
       "      <th>ROADCOND_Standing Water</th>\n",
       "      <th>ROADCOND_Wet</th>\n",
       "      <th>LIGHTCOND_Dark - No Street Lights</th>\n",
       "      <th>LIGHTCOND_Dark - Street Lights On</th>\n",
       "      <th>LIGHTCOND_Dawn</th>\n",
       "      <th>LIGHTCOND_Daylight</th>\n",
       "      <th>LIGHTCOND_Dusk</th>\n",
       "      <th>SEVERITYCODE</th>\n",
       "    </tr>\n",
       "  </thead>\n",
       "  <tbody>\n",
       "    <tr>\n",
       "      <th>5</th>\n",
       "      <td>1</td>\n",
       "      <td>0</td>\n",
       "      <td>0</td>\n",
       "      <td>0</td>\n",
       "      <td>0</td>\n",
       "      <td>0</td>\n",
       "      <td>0</td>\n",
       "      <td>0</td>\n",
       "      <td>0</td>\n",
       "      <td>1</td>\n",
       "      <td>...</td>\n",
       "      <td>0</td>\n",
       "      <td>0</td>\n",
       "      <td>0</td>\n",
       "      <td>0</td>\n",
       "      <td>0</td>\n",
       "      <td>0</td>\n",
       "      <td>0</td>\n",
       "      <td>1</td>\n",
       "      <td>0</td>\n",
       "      <td>Mild</td>\n",
       "    </tr>\n",
       "    <tr>\n",
       "      <th>19</th>\n",
       "      <td>0</td>\n",
       "      <td>0</td>\n",
       "      <td>0</td>\n",
       "      <td>0</td>\n",
       "      <td>0</td>\n",
       "      <td>0</td>\n",
       "      <td>1</td>\n",
       "      <td>0</td>\n",
       "      <td>0</td>\n",
       "      <td>0</td>\n",
       "      <td>...</td>\n",
       "      <td>0</td>\n",
       "      <td>0</td>\n",
       "      <td>0</td>\n",
       "      <td>1</td>\n",
       "      <td>0</td>\n",
       "      <td>1</td>\n",
       "      <td>0</td>\n",
       "      <td>0</td>\n",
       "      <td>0</td>\n",
       "      <td>Mild</td>\n",
       "    </tr>\n",
       "    <tr>\n",
       "      <th>20</th>\n",
       "      <td>1</td>\n",
       "      <td>0</td>\n",
       "      <td>0</td>\n",
       "      <td>0</td>\n",
       "      <td>0</td>\n",
       "      <td>0</td>\n",
       "      <td>0</td>\n",
       "      <td>0</td>\n",
       "      <td>0</td>\n",
       "      <td>1</td>\n",
       "      <td>...</td>\n",
       "      <td>0</td>\n",
       "      <td>0</td>\n",
       "      <td>0</td>\n",
       "      <td>0</td>\n",
       "      <td>0</td>\n",
       "      <td>0</td>\n",
       "      <td>0</td>\n",
       "      <td>1</td>\n",
       "      <td>0</td>\n",
       "      <td>Mild</td>\n",
       "    </tr>\n",
       "    <tr>\n",
       "      <th>22</th>\n",
       "      <td>0</td>\n",
       "      <td>0</td>\n",
       "      <td>0</td>\n",
       "      <td>0</td>\n",
       "      <td>0</td>\n",
       "      <td>0</td>\n",
       "      <td>1</td>\n",
       "      <td>0</td>\n",
       "      <td>0</td>\n",
       "      <td>1</td>\n",
       "      <td>...</td>\n",
       "      <td>0</td>\n",
       "      <td>0</td>\n",
       "      <td>0</td>\n",
       "      <td>0</td>\n",
       "      <td>0</td>\n",
       "      <td>0</td>\n",
       "      <td>0</td>\n",
       "      <td>1</td>\n",
       "      <td>0</td>\n",
       "      <td>Mild</td>\n",
       "    </tr>\n",
       "    <tr>\n",
       "      <th>23</th>\n",
       "      <td>1</td>\n",
       "      <td>0</td>\n",
       "      <td>0</td>\n",
       "      <td>0</td>\n",
       "      <td>0</td>\n",
       "      <td>0</td>\n",
       "      <td>0</td>\n",
       "      <td>0</td>\n",
       "      <td>0</td>\n",
       "      <td>1</td>\n",
       "      <td>...</td>\n",
       "      <td>0</td>\n",
       "      <td>0</td>\n",
       "      <td>0</td>\n",
       "      <td>0</td>\n",
       "      <td>0</td>\n",
       "      <td>0</td>\n",
       "      <td>0</td>\n",
       "      <td>1</td>\n",
       "      <td>0</td>\n",
       "      <td>Mild</td>\n",
       "    </tr>\n",
       "  </tbody>\n",
       "</table>\n",
       "<p>5 rows × 27 columns</p>\n",
       "</div>"
      ],
      "text/plain": [
       "    COLLISIONTYPE_Angles  COLLISIONTYPE_Cycles  COLLISIONTYPE_Head On  \\\n",
       "5                      1                     0                      0   \n",
       "19                     0                     0                      0   \n",
       "20                     1                     0                      0   \n",
       "22                     0                     0                      0   \n",
       "23                     1                     0                      0   \n",
       "\n",
       "    COLLISIONTYPE_Left Turn  COLLISIONTYPE_Parked Car  \\\n",
       "5                         0                         0   \n",
       "19                        0                         0   \n",
       "20                        0                         0   \n",
       "22                        0                         0   \n",
       "23                        0                         0   \n",
       "\n",
       "    COLLISIONTYPE_Pedestrian  COLLISIONTYPE_Rear Ended  \\\n",
       "5                          0                         0   \n",
       "19                         0                         1   \n",
       "20                         0                         0   \n",
       "22                         0                         1   \n",
       "23                         0                         0   \n",
       "\n",
       "    COLLISIONTYPE_Right Turn  COLLISIONTYPE_Sideswipe  WEATHER_Clear  ...  \\\n",
       "5                          0                        0              1  ...   \n",
       "19                         0                        0              0  ...   \n",
       "20                         0                        0              1  ...   \n",
       "22                         0                        0              1  ...   \n",
       "23                         0                        0              1  ...   \n",
       "\n",
       "    ROADCOND_Sand/Mud/Dirt  ROADCOND_Snow/Slush  ROADCOND_Standing Water  \\\n",
       "5                        0                    0                        0   \n",
       "19                       0                    0                        0   \n",
       "20                       0                    0                        0   \n",
       "22                       0                    0                        0   \n",
       "23                       0                    0                        0   \n",
       "\n",
       "    ROADCOND_Wet  LIGHTCOND_Dark - No Street Lights  \\\n",
       "5              0                                  0   \n",
       "19             1                                  0   \n",
       "20             0                                  0   \n",
       "22             0                                  0   \n",
       "23             0                                  0   \n",
       "\n",
       "    LIGHTCOND_Dark - Street Lights On  LIGHTCOND_Dawn  LIGHTCOND_Daylight  \\\n",
       "5                                   0               0                   1   \n",
       "19                                  1               0                   0   \n",
       "20                                  0               0                   1   \n",
       "22                                  0               0                   1   \n",
       "23                                  0               0                   1   \n",
       "\n",
       "    LIGHTCOND_Dusk  SEVERITYCODE  \n",
       "5                0          Mild  \n",
       "19               0          Mild  \n",
       "20               0          Mild  \n",
       "22               0          Mild  \n",
       "23               0          Mild  \n",
       "\n",
       "[5 rows x 27 columns]"
      ]
     },
     "execution_count": 28,
     "metadata": {},
     "output_type": "execute_result"
    }
   ],
   "source": [
    "dataframe_final.head()"
   ]
  },
  {
   "cell_type": "markdown",
   "metadata": {},
   "source": [
    "As we can see below, our results are relly unbalanced in terms of our outcome class. We need to correct this so our model is not biased towards picking the severity of minor injuries.\n",
    "\n",
    "To do this we can either oversample our minority class 3 - severe injury/death, or undersample our majority class 2 - injury. As we want to keep our numbers high, we are going to oversample the minority class."
   ]
  },
  {
   "cell_type": "code",
   "execution_count": 29,
   "metadata": {},
   "outputs": [
    {
     "data": {
      "text/plain": [
       "Mild      50157\n",
       "Severe     2713\n",
       "Name: SEVERITYCODE, dtype: int64"
      ]
     },
     "execution_count": 29,
     "metadata": {},
     "output_type": "execute_result"
    }
   ],
   "source": [
    "dataframe_final['SEVERITYCODE'].value_counts()"
   ]
  },
  {
   "cell_type": "markdown",
   "metadata": {},
   "source": [
    "Because of this severe class imbalance, any machine learning algorithms would ignore our minority class which we cannot have. The simplest approach to deal with this is to synthesize new examples from the existing examples using a data augmentation for upsampling the minority class ('Severe' injury instances)."
   ]
  },
  {
   "cell_type": "code",
   "execution_count": 30,
   "metadata": {},
   "outputs": [
    {
     "name": "stdout",
     "output_type": "stream",
     "text": [
      "Class 0: 50157\n",
      "Class 1: 2713\n",
      "Proportion: 18.49 : 1\n"
     ]
    },
    {
     "data": {
      "image/png": "[encoded data removed]",
      "text/plain": [
       "<Figure size 432x288 with 1 Axes>"
      ]
     },
     "metadata": {
      "needs_background": "light"
     },
     "output_type": "display_data"
    }
   ],
   "source": [
    "target_count = dataframe_final.SEVERITYCODE.value_counts()\n",
    "print('Class 0:', target_count[0])\n",
    "print('Class 1:', target_count[1])\n",
    "print('Proportion:', round(target_count[0] / target_count[1], 2), ': 1')\n",
    "\n",
    "target_count.plot(kind='bar', title='Count (target)');"
   ]
  },
  {
   "cell_type": "code",
   "execution_count": 31,
   "metadata": {},
   "outputs": [],
   "source": [
    "from sklearn.model_selection import train_test_split\n",
    "from sklearn.utils import resample"
   ]
  },
  {
   "cell_type": "code",
   "execution_count": 32,
   "metadata": {},
   "outputs": [
    {
     "data": {
      "text/plain": [
       "Severe    50157\n",
       "Mild      50157\n",
       "Name: SEVERITYCODE, dtype: int64"
      ]
     },
     "execution_count": 32,
     "metadata": {},
     "output_type": "execute_result"
    }
   ],
   "source": [
    "#S Seperate out majority and minority classes\n",
    "df_majority = dataframe_final[dataframe_final.SEVERITYCODE=='Mild']\n",
    "df_minority = dataframe_final[dataframe_final.SEVERITYCODE=='Severe']\n",
    "\n",
    "# upsample minority\n",
    "df_minority_upsampled = resample(df_minority,\n",
    "                         replace = True, # sample with replacement\n",
    "                         n_samples = len(df_majority), # match number in majority class\n",
    "                         random_state = 27) # reproducible results# combine majority and upsampled minority\n",
    "\n",
    "df_upsampled = pd.concat([df_majority, df_minority_upsampled]) # check new class counts\n",
    "\n",
    "df_upsampled.SEVERITYCODE.value_counts()"
   ]
  },
  {
   "cell_type": "code",
   "execution_count": 33,
   "metadata": {},
   "outputs": [
    {
     "name": "stdout",
     "output_type": "stream",
     "text": [
      "Class 0: 50157\n",
      "Class 1: 50157\n",
      "Proportion: 1.0 : 1\n"
     ]
    },
    {
     "data": {
      "image/png": "[encoded data removed]",
      "text/plain": [
       "<Figure size 432x288 with 1 Axes>"
      ]
     },
     "metadata": {
      "needs_background": "light"
     },
     "output_type": "display_data"
    }
   ],
   "source": [
    "target_count1 = df_upsampled.SEVERITYCODE.value_counts()\n",
    "print('Class 0:', target_count1[0])\n",
    "print('Class 1:', target_count1[1])\n",
    "print('Proportion:', round(target_count1[0] / target_count1[1], 2), ': 1')\n",
    "\n",
    "target_count1.plot(kind='bar', title='Count (target)');"
   ]
  },
  {
   "cell_type": "markdown",
   "metadata": {},
   "source": [
    "### Feature Selection"
   ]
  },
  {
   "cell_type": "code",
   "execution_count": 34,
   "metadata": {},
   "outputs": [],
   "source": [
    "Features = df_upsampled[['COLLISIONTYPE_Angles', \n",
    "                            'COLLISIONTYPE_Cycles',\n",
    "                            'COLLISIONTYPE_Head On',\n",
    "                            'COLLISIONTYPE_Left Turn',\n",
    "                            'COLLISIONTYPE_Parked Car',\n",
    "                            'COLLISIONTYPE_Pedestrian',\n",
    "                            'COLLISIONTYPE_Rear Ended',\n",
    "                            'COLLISIONTYPE_Right Turn',\n",
    "                            'COLLISIONTYPE_Sideswipe',\n",
    "                            'WEATHER_Clear',\n",
    "                            'WEATHER_Fog/Smog/Smoke',\n",
    "                            'WEATHER_Overcast',\n",
    "                            'WEATHER_Raining',\n",
    "                            'WEATHER_Snowing',\n",
    "                            'ROADCOND_Dry',\n",
    "                            'ROADCOND_Ice',\n",
    "                            'ROADCOND_Oil',\n",
    "                            'ROADCOND_Sand/Mud/Dirt',\n",
    "                            'ROADCOND_Snow/Slush',\n",
    "                            'ROADCOND_Standing Water',\n",
    "                            'ROADCOND_Wet',\n",
    "                            'LIGHTCOND_Dark - No Street Lights',\n",
    "                            'LIGHTCOND_Dark - Street Lights On',\n",
    "                            'LIGHTCOND_Dawn',\n",
    "                            'LIGHTCOND_Daylight',\n",
    "                            'LIGHTCOND_Dusk']]\n",
    "X = Features"
   ]
  },
  {
   "cell_type": "code",
   "execution_count": 35,
   "metadata": {},
   "outputs": [
    {
     "data": {
      "text/plain": [
       "(100314, 26)"
      ]
     },
     "execution_count": 35,
     "metadata": {},
     "output_type": "execute_result"
    }
   ],
   "source": [
    "X.shape"
   ]
  },
  {
   "cell_type": "code",
   "execution_count": 36,
   "metadata": {},
   "outputs": [
    {
     "data": {
      "text/plain": [
       "(100314,)"
      ]
     },
     "execution_count": 36,
     "metadata": {},
     "output_type": "execute_result"
    }
   ],
   "source": [
    "y = df_upsampled['SEVERITYCODE'].values\n",
    "y.shape"
   ]
  },
  {
   "cell_type": "code",
   "execution_count": 37,
   "metadata": {},
   "outputs": [
    {
     "data": {
      "text/plain": [
       "Severe    50157\n",
       "Mild      50157\n",
       "Name: SEVERITYCODE, dtype: int64"
      ]
     },
     "execution_count": 37,
     "metadata": {},
     "output_type": "execute_result"
    }
   ],
   "source": [
    "df_upsampled['SEVERITYCODE'].value_counts()"
   ]
  },
  {
   "cell_type": "markdown",
   "metadata": {},
   "source": [
    "### Normalize data\n",
    "Data Standardization gives our data a zero mean and a one unit variance."
   ]
  },
  {
   "cell_type": "code",
   "execution_count": 38,
   "metadata": {},
   "outputs": [
    {
     "data": {
      "text/plain": [
       "array([[ 1.88936432, -0.37771899, -0.17940375, -0.34146372, -0.23210659,\n",
       "        -0.55357389, -0.47794872, -0.1006484 , -0.2015521 ,  0.71956265,\n",
       "        -0.04569254, -0.42152656, -0.47711445, -0.05252572,  0.59892902,\n",
       "        -0.0585747 , -0.00998483, -0.01093795, -0.04656068, -0.01868224,\n",
       "        -0.58945334, -0.11328199, -0.62297869, -0.13066718,  0.7240997 ,\n",
       "        -0.19022067],\n",
       "       [-0.52927855, -0.37771899, -0.17940375, -0.34146372, -0.23210659,\n",
       "        -0.55357389,  2.09227469, -0.1006484 , -0.2015521 , -1.38973305,\n",
       "        -0.04569254, -0.42152656,  2.09593317, -0.05252572, -1.66964694,\n",
       "        -0.0585747 , -0.00998483, -0.01093795, -0.04656068, -0.01868224,\n",
       "         1.69648713, -0.11328199,  1.60519133, -0.13066718, -1.38102528,\n",
       "        -0.19022067],\n",
       "       [ 1.88936432, -0.37771899, -0.17940375, -0.34146372, -0.23210659,\n",
       "        -0.55357389, -0.47794872, -0.1006484 , -0.2015521 ,  0.71956265,\n",
       "        -0.04569254, -0.42152656, -0.47711445, -0.05252572,  0.59892902,\n",
       "        -0.0585747 , -0.00998483, -0.01093795, -0.04656068, -0.01868224,\n",
       "        -0.58945334, -0.11328199, -0.62297869, -0.13066718,  0.7240997 ,\n",
       "        -0.19022067],\n",
       "       [-0.52927855, -0.37771899, -0.17940375, -0.34146372, -0.23210659,\n",
       "        -0.55357389,  2.09227469, -0.1006484 , -0.2015521 ,  0.71956265,\n",
       "        -0.04569254, -0.42152656, -0.47711445, -0.05252572,  0.59892902,\n",
       "        -0.0585747 , -0.00998483, -0.01093795, -0.04656068, -0.01868224,\n",
       "        -0.58945334, -0.11328199, -0.62297869, -0.13066718,  0.7240997 ,\n",
       "        -0.19022067],\n",
       "       [ 1.88936432, -0.37771899, -0.17940375, -0.34146372, -0.23210659,\n",
       "        -0.55357389, -0.47794872, -0.1006484 , -0.2015521 ,  0.71956265,\n",
       "        -0.04569254, -0.42152656, -0.47711445, -0.05252572,  0.59892902,\n",
       "        -0.0585747 , -0.00998483, -0.01093795, -0.04656068, -0.01868224,\n",
       "        -0.58945334, -0.11328199, -0.62297869, -0.13066718,  0.7240997 ,\n",
       "        -0.19022067]])"
      ]
     },
     "execution_count": 38,
     "metadata": {},
     "output_type": "execute_result"
    }
   ],
   "source": [
    "from sklearn import preprocessing\n",
    "X = preprocessing.StandardScaler().fit(X).transform(X)\n",
    "X[0:5]"
   ]
  },
  {
   "cell_type": "markdown",
   "metadata": {},
   "source": [
    "### Have a quick look at our training and testing sets"
   ]
  },
  {
   "cell_type": "code",
   "execution_count": 39,
   "metadata": {},
   "outputs": [
    {
     "name": "stdout",
     "output_type": "stream",
     "text": [
      "Train set: (80251, 26) (80251,)\n",
      "Test set: (20063, 26) (20063,)\n"
     ]
    }
   ],
   "source": [
    "from sklearn.model_selection import train_test_split\n",
    "X_train, X_test, y_train, y_test = train_test_split(X, y, test_size=0.2, random_state=4)\n",
    "print ('Train set:', X_train.shape,  y_train.shape)\n",
    "print ('Test set:', X_test.shape,  y_test.shape)"
   ]
  },
  {
   "cell_type": "markdown",
   "metadata": {},
   "source": [
    "## Classification modelling:\n",
    "In this phase, we will use the following machine learning models:\n",
    "1. K Nearest Neighbour\n",
    "2. Decision Tree\n",
    "3. Support Vector Machines\n",
    "4. Logistic Regression"
   ]
  },
  {
   "cell_type": "code",
   "execution_count": 40,
   "metadata": {},
   "outputs": [
    {
     "data": {
      "text/plain": [
       "array([0.62936749, 0.604446  , 0.64172856, 0.62652644])"
      ]
     },
     "execution_count": 40,
     "metadata": {},
     "output_type": "execute_result"
    }
   ],
   "source": [
    "### K Nearest Neighbor (KNN)\n",
    "from sklearn.neighbors import KNeighborsClassifier\n",
    "from sklearn import metrics\n",
    "\n",
    "Ks = 5\n",
    "mean_acc = np.zeros((Ks-1))\n",
    "std_acc = np.zeros((Ks-1))\n",
    "ConfustionMx = [];\n",
    "for n in range(1,Ks):\n",
    "    \n",
    "    # Train Model and Predict  \n",
    "    neigh = KNeighborsClassifier(n_neighbors = n).fit(X_train,y_train)\n",
    "    yhat_KNN_test=neigh.predict(X_test)\n",
    "    mean_acc[n-1] = metrics.accuracy_score(y_test, yhat_KNN_test)\n",
    "\n",
    "    \n",
    "    std_acc[n-1]=np.std(yhat_KNN_test==y_test)/np.sqrt(yhat_KNN_test.shape[0])\n",
    "\n",
    "mean_acc"
   ]
  },
  {
   "cell_type": "code",
   "execution_count": 41,
   "metadata": {},
   "outputs": [
    {
     "data": {
      "image/png": "[encoded data removed]",
      "text/plain": [
       "<Figure size 432x288 with 1 Axes>"
      ]
     },
     "metadata": {
      "needs_background": "light"
     },
     "output_type": "display_data"
    }
   ],
   "source": [
    "plt.plot(range(1,5),mean_acc,'g')\n",
    "plt.fill_between(range(1,Ks),mean_acc - 1 * std_acc,mean_acc + 1 * std_acc, alpha=0.10)\n",
    "plt.legend(('Accuracy ', '+/- 3 x std'))\n",
    "plt.ylabel('Accuracy ')\n",
    "plt.xlabel('Number of Neighbours (K)')\n",
    "plt.tight_layout()\n",
    "plt.show()"
   ]
  },
  {
   "cell_type": "markdown",
   "metadata": {},
   "source": [
    "From the figure above we can see that 3 nearest neighbours will be sufficient for max accuracy. So we will use this number for our KNN model."
   ]
  },
  {
   "cell_type": "code",
   "execution_count": 42,
   "metadata": {},
   "outputs": [
    {
     "data": {
      "text/plain": [
       "KNeighborsClassifier(algorithm='auto', leaf_size=30, metric='minkowski',\n",
       "                     metric_params=None, n_jobs=None, n_neighbors=3, p=2,\n",
       "                     weights='uniform')"
      ]
     },
     "execution_count": 42,
     "metadata": {},
     "output_type": "execute_result"
    }
   ],
   "source": [
    "k = 3\n",
    "KNN_model = KNeighborsClassifier(n_neighbors=k).fit(X_train,y_train)\n",
    "KNN_model"
   ]
  },
  {
   "cell_type": "code",
   "execution_count": 43,
   "metadata": {},
   "outputs": [
    {
     "data": {
      "text/plain": [
       "array(['Severe', 'Mild', 'Severe', 'Mild', 'Severe'], dtype=object)"
      ]
     },
     "execution_count": 43,
     "metadata": {},
     "output_type": "execute_result"
    }
   ],
   "source": [
    "# Sanity check\n",
    "yhat_KNN = KNN_model.predict(X_test)\n",
    "yhat_KNN[0:5]"
   ]
  },
  {
   "cell_type": "markdown",
   "metadata": {},
   "source": [
    "### Decision Tree"
   ]
  },
  {
   "cell_type": "code",
   "execution_count": 44,
   "metadata": {},
   "outputs": [
    {
     "data": {
      "text/plain": [
       "DecisionTreeClassifier(class_weight=None, criterion='entropy', max_depth=4,\n",
       "                       max_features=None, max_leaf_nodes=None,\n",
       "                       min_impurity_decrease=0.0, min_impurity_split=None,\n",
       "                       min_samples_leaf=1, min_samples_split=2,\n",
       "                       min_weight_fraction_leaf=0.0, presort=False,\n",
       "                       random_state=None, splitter='best')"
      ]
     },
     "execution_count": 44,
     "metadata": {},
     "output_type": "execute_result"
    }
   ],
   "source": [
    "from sklearn.tree import DecisionTreeClassifier\n",
    "DT_model = DecisionTreeClassifier(criterion=\"entropy\", max_depth = 4)\n",
    "DT_model.fit(X_train,y_train)\n",
    "DT_model"
   ]
  },
  {
   "cell_type": "code",
   "execution_count": 45,
   "metadata": {},
   "outputs": [
    {
     "data": {
      "text/plain": [
       "array(['Severe', 'Mild', 'Severe', ..., 'Severe', 'Severe', 'Mild'],\n",
       "      dtype=object)"
      ]
     },
     "execution_count": 45,
     "metadata": {},
     "output_type": "execute_result"
    }
   ],
   "source": [
    "yhat_DT = DT_model.predict(X_test)\n",
    "yhat_DT"
   ]
  },
  {
   "cell_type": "markdown",
   "metadata": {},
   "source": [
    "### Support Vector Machine"
   ]
  },
  {
   "cell_type": "code",
   "execution_count": 46,
   "metadata": {},
   "outputs": [
    {
     "name": "stderr",
     "output_type": "stream",
     "text": [
      "/Users/u4307082/opt/anaconda3/lib/python3.7/site-packages/sklearn/svm/base.py:193: FutureWarning: The default value of gamma will change from 'auto' to 'scale' in version 0.22 to account better for unscaled features. Set gamma explicitly to 'auto' or 'scale' to avoid this warning.\n",
      "  \"avoid this warning.\", FutureWarning)\n"
     ]
    },
    {
     "data": {
      "text/plain": [
       "SVC(C=1.0, cache_size=200, class_weight=None, coef0=0.0,\n",
       "    decision_function_shape='ovr', degree=3, gamma='auto_deprecated',\n",
       "    kernel='rbf', max_iter=-1, probability=False, random_state=None,\n",
       "    shrinking=True, tol=0.001, verbose=False)"
      ]
     },
     "execution_count": 46,
     "metadata": {},
     "output_type": "execute_result"
    }
   ],
   "source": [
    "from sklearn.svm import SVC\n",
    "SVM_clf = SVC()\n",
    "SVM_clf.fit(X_train, y_train) "
   ]
  },
  {
   "cell_type": "code",
   "execution_count": 47,
   "metadata": {},
   "outputs": [
    {
     "data": {
      "text/plain": [
       "array(['Severe', 'Mild', 'Severe', ..., 'Severe', 'Severe', 'Mild'],\n",
       "      dtype=object)"
      ]
     },
     "execution_count": 47,
     "metadata": {},
     "output_type": "execute_result"
    }
   ],
   "source": [
    "yhat_SVM = SVM_clf.predict(X_test)\n",
    "yhat_SVM"
   ]
  },
  {
   "cell_type": "markdown",
   "metadata": {},
   "source": [
    "### Logistic Regression"
   ]
  },
  {
   "cell_type": "code",
   "execution_count": 48,
   "metadata": {},
   "outputs": [
    {
     "name": "stderr",
     "output_type": "stream",
     "text": [
      "/Users/u4307082/opt/anaconda3/lib/python3.7/site-packages/sklearn/linear_model/logistic.py:432: FutureWarning: Default solver will be changed to 'lbfgs' in 0.22. Specify a solver to silence this warning.\n",
      "  FutureWarning)\n"
     ]
    },
    {
     "data": {
      "text/plain": [
       "LogisticRegression(C=0.01, class_weight=None, dual=False, fit_intercept=True,\n",
       "                   intercept_scaling=1, l1_ratio=None, max_iter=100,\n",
       "                   multi_class='warn', n_jobs=None, penalty='l2',\n",
       "                   random_state=None, solver='warn', tol=0.0001, verbose=0,\n",
       "                   warm_start=False)"
      ]
     },
     "execution_count": 48,
     "metadata": {},
     "output_type": "execute_result"
    }
   ],
   "source": [
    "from sklearn.linear_model import LogisticRegression\n",
    "LR_model = LogisticRegression(C=0.01).fit(X_train,y_train)\n",
    "LR_model"
   ]
  },
  {
   "cell_type": "code",
   "execution_count": 49,
   "metadata": {},
   "outputs": [
    {
     "data": {
      "text/plain": [
       "array(['Severe', 'Mild', 'Severe', ..., 'Severe', 'Severe', 'Mild'],\n",
       "      dtype=object)"
      ]
     },
     "execution_count": 49,
     "metadata": {},
     "output_type": "execute_result"
    }
   ],
   "source": [
    "yhat_LR = LR_model.predict(X_test)\n",
    "yhat_LR"
   ]
  },
  {
   "cell_type": "markdown",
   "metadata": {},
   "source": [
    "## Evaluation Modelling"
   ]
  },
  {
   "cell_type": "code",
   "execution_count": 50,
   "metadata": {},
   "outputs": [],
   "source": [
    "from sklearn.metrics import classification_report, confusion_matrix\n",
    "import itertools"
   ]
  },
  {
   "cell_type": "code",
   "execution_count": 51,
   "metadata": {},
   "outputs": [],
   "source": [
    "def plot_confusion_matrix(cm, classes,\n",
    "                          normalize=False,\n",
    "                          title='Confusion matrix',\n",
    "                          cmap=plt.cm.Blues):\n",
    "    \"\"\"\n",
    "    This function prints and plots the confusion matrix.\n",
    "    Normalization can be applied by setting `normalize=True`.\n",
    "    \"\"\"\n",
    "    if normalize:\n",
    "        cm = cm.astype('float') / cm.sum(axis=1)[:, np.newaxis]\n",
    "        print(\"Normalized confusion matrix\")\n",
    "    else:\n",
    "        print('Confusion matrix, without normalization')\n",
    "\n",
    "    print(cm)\n",
    "\n",
    "    plt.imshow(cm, interpolation='nearest', cmap=cmap)\n",
    "    plt.title(title)\n",
    "    plt.colorbar()\n",
    "    tick_marks = np.arange(len(classes))\n",
    "    plt.xticks(tick_marks, classes, rotation=45)\n",
    "    plt.yticks(tick_marks, classes)\n",
    "\n",
    "    fmt = '.2f' if normalize else 'd'\n",
    "    thresh = cm.max() / 2.\n",
    "    for i, j in itertools.product(range(cm.shape[0]), range(cm.shape[1])):\n",
    "        plt.text(j, i, format(cm[i, j], fmt),\n",
    "                 horizontalalignment=\"center\",\n",
    "                 color=\"white\" if cm[i, j] > thresh else \"black\")\n",
    "\n",
    "    plt.tight_layout()\n",
    "    plt.ylabel('True label')\n",
    "    plt.xlabel('Predicted label')"
   ]
  },
  {
   "cell_type": "code",
   "execution_count": 52,
   "metadata": {},
   "outputs": [
    {
     "name": "stdout",
     "output_type": "stream",
     "text": [
      "              precision    recall  f1-score   support\n",
      "\n",
      "        Mild       0.65      0.61      0.63     10010\n",
      "      Severe       0.63      0.67      0.65     10053\n",
      "\n",
      "    accuracy                           0.64     20063\n",
      "   macro avg       0.64      0.64      0.64     20063\n",
      "weighted avg       0.64      0.64      0.64     20063\n",
      "\n",
      "Confusion matrix, without normalization\n",
      "[[6100 3910]\n",
      " [3278 6775]]\n"
     ]
    },
    {
     "data": {
      "image/png": "[encoded data removed]",
      "text/plain": [
       "<Figure size 432x288 with 2 Axes>"
      ]
     },
     "metadata": {
      "needs_background": "light"
     },
     "output_type": "display_data"
    }
   ],
   "source": [
    "# Compute confusion matrix\n",
    "cnf_matrix = confusion_matrix(y_test, yhat_KNN, labels=['Mild','Severe'])\n",
    "np.set_printoptions(precision=2)\n",
    "\n",
    "print (classification_report(y_test, yhat_KNN))\n",
    "\n",
    "# Plot non-normalized confusion matrix\n",
    "plt.figure()\n",
    "plot_confusion_matrix(cnf_matrix, classes=['Mild','Severe'],normalize= False,  title='Confusion matrix - KNN')"
   ]
  },
  {
   "cell_type": "code",
   "execution_count": 53,
   "metadata": {},
   "outputs": [
    {
     "name": "stdout",
     "output_type": "stream",
     "text": [
      "              precision    recall  f1-score   support\n",
      "\n",
      "        Mild       0.64      0.78      0.70     10010\n",
      "      Severe       0.72      0.56      0.63     10053\n",
      "\n",
      "    accuracy                           0.67     20063\n",
      "   macro avg       0.68      0.67      0.66     20063\n",
      "weighted avg       0.68      0.67      0.66     20063\n",
      "\n",
      "Confusion matrix, without normalization\n",
      "[[7806 2204]\n",
      " [4452 5601]]\n"
     ]
    },
    {
     "data": {
      "image/png": "[encoded data removed]",
      "text/plain": [
       "<Figure size 432x288 with 2 Axes>"
      ]
     },
     "metadata": {
      "needs_background": "light"
     },
     "output_type": "display_data"
    }
   ],
   "source": [
    "# Compute confusion matrix\n",
    "cnf_matrix = confusion_matrix(y_test, yhat_DT, labels=['Mild','Severe'])\n",
    "np.set_printoptions(precision=2)\n",
    "\n",
    "print (classification_report(y_test, yhat_DT))\n",
    "\n",
    "# Plot non-normalized confusion matrix\n",
    "plt.figure()\n",
    "plot_confusion_matrix(cnf_matrix, classes=['Mild','Severe'],normalize= False,  title='Confusion matrix - Decision Tree')"
   ]
  },
  {
   "cell_type": "code",
   "execution_count": 54,
   "metadata": {},
   "outputs": [
    {
     "name": "stdout",
     "output_type": "stream",
     "text": [
      "              precision    recall  f1-score   support\n",
      "\n",
      "        Mild       0.66      0.73      0.69     10010\n",
      "      Severe       0.70      0.62      0.66     10053\n",
      "\n",
      "    accuracy                           0.68     20063\n",
      "   macro avg       0.68      0.68      0.67     20063\n",
      "weighted avg       0.68      0.68      0.67     20063\n",
      "\n",
      "Confusion matrix, without normalization\n",
      "[[7296 2714]\n",
      " [3797 6256]]\n"
     ]
    },
    {
     "data": {
      "image/png": "[encoded data removed]",
      "text/plain": [
       "<Figure size 432x288 with 2 Axes>"
      ]
     },
     "metadata": {
      "needs_background": "light"
     },
     "output_type": "display_data"
    }
   ],
   "source": [
    "# Compute confusion matrix\n",
    "cnf_matrix = confusion_matrix(y_test, yhat_SVM, labels=['Mild','Severe'])\n",
    "np.set_printoptions(precision=2)\n",
    "\n",
    "print (classification_report(y_test, yhat_SVM))\n",
    "\n",
    "# Plot non-normalized confusion matrix\n",
    "plt.figure()\n",
    "plot_confusion_matrix(cnf_matrix, classes=['Mild','Severe'],normalize= False,  title='Confusion matrix - SVM')"
   ]
  },
  {
   "cell_type": "code",
   "execution_count": 55,
   "metadata": {},
   "outputs": [
    {
     "name": "stdout",
     "output_type": "stream",
     "text": [
      "              precision    recall  f1-score   support\n",
      "\n",
      "        Mild       0.65      0.74      0.69     10010\n",
      "      Severe       0.70      0.60      0.65     10053\n",
      "\n",
      "    accuracy                           0.67     20063\n",
      "   macro avg       0.67      0.67      0.67     20063\n",
      "weighted avg       0.67      0.67      0.67     20063\n",
      "\n",
      "Confusion matrix, without normalization\n",
      "[[7378 2632]\n",
      " [3991 6062]]\n"
     ]
    },
    {
     "data": {
      "image/png": "[encoded data removed]",
      "text/plain": [
       "<Figure size 432x288 with 2 Axes>"
      ]
     },
     "metadata": {
      "needs_background": "light"
     },
     "output_type": "display_data"
    }
   ],
   "source": [
    "# Compute confusion matrix\n",
    "cnf_matrix = confusion_matrix(y_test, yhat_LR, labels=['Mild','Severe'])\n",
    "np.set_printoptions(precision=2)\n",
    "\n",
    "print (classification_report(y_test, yhat_LR))\n",
    "\n",
    "# Plot non-normalized confusion matrix\n",
    "plt.figure()\n",
    "plot_confusion_matrix(cnf_matrix, classes=['Mild','Severe'],normalize= False,  title='Confusion matrix - LR')"
   ]
  },
  {
   "cell_type": "code",
   "execution_count": 56,
   "metadata": {},
   "outputs": [
    {
     "name": "stdout",
     "output_type": "stream",
     "text": [
      "0.21.3\n"
     ]
    }
   ],
   "source": [
    "import sklearn\n",
    "print(sklearn.__version__)"
   ]
  },
  {
   "cell_type": "code",
   "execution_count": 57,
   "metadata": {},
   "outputs": [],
   "source": [
    "### Model Evaluation\n",
    "from sklearn.metrics import jaccard_similarity_score\n",
    "from sklearn.metrics import f1_score\n",
    "from sklearn.metrics import log_loss"
   ]
  },
  {
   "cell_type": "markdown",
   "metadata": {},
   "source": [
    "### Jaccard Index Evaluation"
   ]
  },
  {
   "cell_type": "code",
   "execution_count": 58,
   "metadata": {},
   "outputs": [
    {
     "name": "stderr",
     "output_type": "stream",
     "text": [
      "/Users/u4307082/opt/anaconda3/lib/python3.7/site-packages/sklearn/metrics/classification.py:635: DeprecationWarning: jaccard_similarity_score has been deprecated and replaced with jaccard_score. It will be removed in version 0.23. This implementation has surprising behavior for binary and multiclass classification tasks.\n",
      "  'and multiclass classification tasks.', DeprecationWarning)\n",
      "/Users/u4307082/opt/anaconda3/lib/python3.7/site-packages/sklearn/metrics/classification.py:635: DeprecationWarning: jaccard_similarity_score has been deprecated and replaced with jaccard_score. It will be removed in version 0.23. This implementation has surprising behavior for binary and multiclass classification tasks.\n",
      "  'and multiclass classification tasks.', DeprecationWarning)\n",
      "/Users/u4307082/opt/anaconda3/lib/python3.7/site-packages/sklearn/metrics/classification.py:635: DeprecationWarning: jaccard_similarity_score has been deprecated and replaced with jaccard_score. It will be removed in version 0.23. This implementation has surprising behavior for binary and multiclass classification tasks.\n",
      "  'and multiclass classification tasks.', DeprecationWarning)\n",
      "/Users/u4307082/opt/anaconda3/lib/python3.7/site-packages/sklearn/metrics/classification.py:635: DeprecationWarning: jaccard_similarity_score has been deprecated and replaced with jaccard_score. It will be removed in version 0.23. This implementation has surprising behavior for binary and multiclass classification tasks.\n",
      "  'and multiclass classification tasks.', DeprecationWarning)\n"
     ]
    }
   ],
   "source": [
    "KNN_Jaccard_Index = jaccard_similarity_score(y_test, yhat_KNN)\n",
    "DT_Jaccard_Index = jaccard_similarity_score(y_test, yhat_DT)\n",
    "SVM_Jaccard_Index = jaccard_similarity_score(y_test, yhat_SVM)\n",
    "LR_Jaccard_Index = jaccard_similarity_score(y_test, yhat_LR)"
   ]
  },
  {
   "cell_type": "markdown",
   "metadata": {},
   "source": [
    "### F1 Evaluation"
   ]
  },
  {
   "cell_type": "code",
   "execution_count": 59,
   "metadata": {},
   "outputs": [],
   "source": [
    "KNN_f1 = f1_score(y_test, yhat_KNN, average='weighted')\n",
    "DT_f1 = f1_score(y_test, yhat_DT, average='weighted')\n",
    "SVM_f1 = f1_score(y_test, yhat_SVM, average='weighted')\n",
    "LR_f1 = f1_score(y_test, yhat_LR, average='weighted')"
   ]
  },
  {
   "cell_type": "markdown",
   "metadata": {},
   "source": [
    "### Evaluation Summary"
   ]
  },
  {
   "cell_type": "code",
   "execution_count": 60,
   "metadata": {},
   "outputs": [
    {
     "name": "stdout",
     "output_type": "stream",
     "text": [
      "KNN Jaccard index: 0.64\n",
      "Decision Tree Jaccard index: 0.67\n",
      "SVM Jaccard index: 0.68\n",
      "Logistic Regression Jaccard index: 0.67\n"
     ]
    }
   ],
   "source": [
    "print(\"KNN Jaccard index: %.2f\" % KNN_Jaccard_Index)\n",
    "print(\"Decision Tree Jaccard index: %.2f\" % DT_Jaccard_Index)\n",
    "print(\"SVM Jaccard index: %.2f\" % SVM_Jaccard_Index)\n",
    "print(\"Logistic Regression Jaccard index: %.2f\" % LR_Jaccard_Index)"
   ]
  },
  {
   "cell_type": "code",
   "execution_count": 61,
   "metadata": {},
   "outputs": [
    {
     "name": "stdout",
     "output_type": "stream",
     "text": [
      "KNN F1: 0.64\n",
      "Decision Tree F1: 0.66\n",
      "SVM F1: 0.67\n",
      "Logistic Regression F1: 0.67\n"
     ]
    }
   ],
   "source": [
    "print(\"KNN F1: %.2f\" % KNN_f1)\n",
    "print(\"Decision Tree F1: %.2f\" % DT_f1)\n",
    "print(\"SVM F1: %.2f\" % SVM_f1)\n",
    "print(\"Logistic Regression F1: %.2f\" % LR_f1)"
   ]
  }
 ],
 "metadata": {
  "kernelspec": {
   "display_name": "Python 3",
   "language": "python",
   "name": "python3"
  },
  "language_info": {
   "codemirror_mode": {
    "name": "ipython",
    "version": 3
   },
   "file_extension": ".py",
   "mimetype": "text/x-python",
   "name": "python",
   "nbconvert_exporter": "python",
   "pygments_lexer": "ipython3",
   "version": "3.7.6"
  }
 },
 "nbformat": 4,
 "nbformat_minor": 4
}
